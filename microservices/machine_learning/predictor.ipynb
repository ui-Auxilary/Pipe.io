{
 "cells": [
  {
   "cell_type": "code",
   "execution_count": 120,
   "metadata": {},
   "outputs": [],
   "source": [
    "# we don't want to see future warnings\n",
    "import warnings\n",
    "warnings.simplefilter(action='ignore', category=FutureWarning)\n",
    "\n",
    "import yfinance as yf\n",
    "\n",
    "import tensorflow as tf\n",
    "import numpy as np\n",
    "import pandas as pd\n",
    "import matplotlib.pyplot as plt\n",
    "\n",
    "from sentiment_analysis import sentiment_analysis_microservice\n"
   ]
  },
  {
   "cell_type": "code",
   "execution_count": 213,
   "metadata": {},
   "outputs": [],
   "source": [
    "WINDOW_SIZE = 100\n",
    "SENTIMENT_IN_MODEL = 1\n",
    "NUM_TO_PREDICT = 10\n",
    "\n",
    "EXTRAPOLATE_DAYS = 200\n",
    "DAYS_TO_TAKE_FROM_EACH_PREDICTION = 10"
   ]
  },
  {
   "cell_type": "code",
   "execution_count": 122,
   "metadata": {},
   "outputs": [
    {
     "name": "stderr",
     "output_type": "stream",
     "text": [
      "[nltk_data] Downloading package vader_lexicon to\n",
      "[nltk_data]     /Users/dhruv/nltk_data...\n",
      "[nltk_data]   Package vader_lexicon is already up-to-date!\n",
      "[nltk_data] Downloading package vader_lexicon to\n",
      "[nltk_data]     /Users/dhruv/nltk_data...\n",
      "[nltk_data]   Package vader_lexicon is already up-to-date!\n",
      "[nltk_data] Downloading package vader_lexicon to\n",
      "[nltk_data]     /Users/dhruv/nltk_data...\n",
      "[nltk_data]   Package vader_lexicon is already up-to-date!\n",
      "[nltk_data] Downloading package vader_lexicon to\n",
      "[nltk_data]     /Users/dhruv/nltk_data...\n",
      "[nltk_data]   Package vader_lexicon is already up-to-date!\n",
      "[nltk_data] Downloading package vader_lexicon to\n",
      "[nltk_data]     /Users/dhruv/nltk_data...\n",
      "[nltk_data]   Package vader_lexicon is already up-to-date!\n"
     ]
    },
    {
     "data": {
      "text/html": [
       "<div>\n",
       "<style scoped>\n",
       "    .dataframe tbody tr th:only-of-type {\n",
       "        vertical-align: middle;\n",
       "    }\n",
       "\n",
       "    .dataframe tbody tr th {\n",
       "        vertical-align: top;\n",
       "    }\n",
       "\n",
       "    .dataframe thead th {\n",
       "        text-align: right;\n",
       "    }\n",
       "</style>\n",
       "<table border=\"1\" class=\"dataframe\">\n",
       "  <thead>\n",
       "    <tr style=\"text-align: right;\">\n",
       "      <th></th>\n",
       "      <th>Close</th>\n",
       "    </tr>\n",
       "    <tr>\n",
       "      <th>Date</th>\n",
       "      <th></th>\n",
       "    </tr>\n",
       "  </thead>\n",
       "  <tbody>\n",
       "    <tr>\n",
       "      <th>1986-03-13 00:00:00-05:00</th>\n",
       "      <td>0.060396</td>\n",
       "    </tr>\n",
       "    <tr>\n",
       "      <th>1986-03-14 00:00:00-05:00</th>\n",
       "      <td>0.062553</td>\n",
       "    </tr>\n",
       "    <tr>\n",
       "      <th>1986-03-17 00:00:00-05:00</th>\n",
       "      <td>0.063632</td>\n",
       "    </tr>\n",
       "    <tr>\n",
       "      <th>1986-03-18 00:00:00-05:00</th>\n",
       "      <td>0.062014</td>\n",
       "    </tr>\n",
       "    <tr>\n",
       "      <th>1986-03-19 00:00:00-05:00</th>\n",
       "      <td>0.060936</td>\n",
       "    </tr>\n",
       "    <tr>\n",
       "      <th>...</th>\n",
       "      <td>...</td>\n",
       "    </tr>\n",
       "    <tr>\n",
       "      <th>2023-10-18 00:00:00-04:00</th>\n",
       "      <td>330.109985</td>\n",
       "    </tr>\n",
       "    <tr>\n",
       "      <th>2023-10-19 00:00:00-04:00</th>\n",
       "      <td>331.320007</td>\n",
       "    </tr>\n",
       "    <tr>\n",
       "      <th>2023-10-20 00:00:00-04:00</th>\n",
       "      <td>326.670013</td>\n",
       "    </tr>\n",
       "    <tr>\n",
       "      <th>2023-10-23 00:00:00-04:00</th>\n",
       "      <td>329.320007</td>\n",
       "    </tr>\n",
       "    <tr>\n",
       "      <th>2023-10-24 00:00:00-04:00</th>\n",
       "      <td>330.529999</td>\n",
       "    </tr>\n",
       "  </tbody>\n",
       "</table>\n",
       "<p>9481 rows × 1 columns</p>\n",
       "</div>"
      ],
      "text/plain": [
       "                                Close\n",
       "Date                                 \n",
       "1986-03-13 00:00:00-05:00    0.060396\n",
       "1986-03-14 00:00:00-05:00    0.062553\n",
       "1986-03-17 00:00:00-05:00    0.063632\n",
       "1986-03-18 00:00:00-05:00    0.062014\n",
       "1986-03-19 00:00:00-05:00    0.060936\n",
       "...                               ...\n",
       "2023-10-18 00:00:00-04:00  330.109985\n",
       "2023-10-19 00:00:00-04:00  331.320007\n",
       "2023-10-20 00:00:00-04:00  326.670013\n",
       "2023-10-23 00:00:00-04:00  329.320007\n",
       "2023-10-24 00:00:00-04:00  330.529999\n",
       "\n",
       "[9481 rows x 1 columns]"
      ]
     },
     "execution_count": 122,
     "metadata": {},
     "output_type": "execute_result"
    }
   ],
   "source": [
    "# get msft stock closing data\n",
    "msft = yf.Ticker(\"MSFT\")\n",
    "msft_data = msft.history(period=\"max\")\n",
    "msft_df = pd.DataFrame(msft_data.Close)\n",
    "msft_sentiment = sentiment_analysis_microservice('MSFT')\n",
    "\n",
    "aapl = yf.Ticker(\"AAPL\")\n",
    "aapl_data = aapl.history(period=\"max\")\n",
    "aapl_df = pd.DataFrame(aapl_data.Close)\n",
    "aapl_sentiment = sentiment_analysis_microservice('AAPL')\n",
    "\n",
    "nvda = yf.Ticker(\"NVDA\")\n",
    "nvda_data = nvda.history(period=\"max\")\n",
    "nvda_df = pd.DataFrame(nvda_data.Close)\n",
    "nvda_sentiment = sentiment_analysis_microservice('NVDA')\n",
    "\n",
    "amzn = yf.Ticker(\"AMZN\")\n",
    "amzn_data = amzn.history(period=\"max\")\n",
    "amzn_df = pd.DataFrame(amzn_data.Close)\n",
    "amzn_sentiment = sentiment_analysis_microservice('AMZN')\n",
    "\n",
    "tsla = yf.Ticker(\"TSLA\")\n",
    "tsla_data = tsla.history(period=\"max\")\n",
    "tsla_df = pd.DataFrame(tsla_data.Close)\n",
    "tsl_sentiment = sentiment_analysis_microservice('TSLA')\n",
    "\n",
    "msft_df"
   ]
  },
  {
   "cell_type": "code",
   "execution_count": 123,
   "metadata": {},
   "outputs": [
    {
     "data": {
      "text/html": [
       "<div>\n",
       "<style scoped>\n",
       "    .dataframe tbody tr th:only-of-type {\n",
       "        vertical-align: middle;\n",
       "    }\n",
       "\n",
       "    .dataframe tbody tr th {\n",
       "        vertical-align: top;\n",
       "    }\n",
       "\n",
       "    .dataframe thead th {\n",
       "        text-align: right;\n",
       "    }\n",
       "</style>\n",
       "<table border=\"1\" class=\"dataframe\">\n",
       "  <thead>\n",
       "    <tr style=\"text-align: right;\">\n",
       "      <th></th>\n",
       "      <th>Close</th>\n",
       "    </tr>\n",
       "  </thead>\n",
       "  <tbody>\n",
       "    <tr>\n",
       "      <th>count</th>\n",
       "      <td>9481.000000</td>\n",
       "    </tr>\n",
       "    <tr>\n",
       "      <th>mean</th>\n",
       "      <td>45.977283</td>\n",
       "    </tr>\n",
       "    <tr>\n",
       "      <th>std</th>\n",
       "      <td>76.168438</td>\n",
       "    </tr>\n",
       "    <tr>\n",
       "      <th>min</th>\n",
       "      <td>0.056083</td>\n",
       "    </tr>\n",
       "    <tr>\n",
       "      <th>25%</th>\n",
       "      <td>3.397310</td>\n",
       "    </tr>\n",
       "    <tr>\n",
       "      <th>50%</th>\n",
       "      <td>19.096367</td>\n",
       "    </tr>\n",
       "    <tr>\n",
       "      <th>75%</th>\n",
       "      <td>35.296585</td>\n",
       "    </tr>\n",
       "    <tr>\n",
       "      <th>max</th>\n",
       "      <td>358.730469</td>\n",
       "    </tr>\n",
       "  </tbody>\n",
       "</table>\n",
       "</div>"
      ],
      "text/plain": [
       "             Close\n",
       "count  9481.000000\n",
       "mean     45.977283\n",
       "std      76.168438\n",
       "min       0.056083\n",
       "25%       3.397310\n",
       "50%      19.096367\n",
       "75%      35.296585\n",
       "max     358.730469"
      ]
     },
     "metadata": {},
     "output_type": "display_data"
    },
    {
     "data": {
      "text/plain": [
       "<Axes: xlabel='Date'>"
      ]
     },
     "execution_count": 123,
     "metadata": {},
     "output_type": "execute_result"
    },
    {
     "data": {
      "image/png": "[encoded data removed]",
      "text/plain": [
       "<Figure size 640x480 with 1 Axes>"
      ]
     },
     "metadata": {},
     "output_type": "display_data"
    }
   ],
   "source": [
    "# get a summary of the data and graph\n",
    "display(msft_df.describe())\n",
    "msft_df.plot()"
   ]
  },
  {
   "cell_type": "code",
   "execution_count": 124,
   "metadata": {},
   "outputs": [],
   "source": [
    "# create a function to create the data sets\n",
    "def create_dataset_from_table(price_df, window_size, num_to_predict):\n",
    "    close_list = price_df.Close.values\n",
    "    dataset_x = []\n",
    "    dataset_y = []\n",
    "\n",
    "    for i in range(len(close_list) - window_size - num_to_predict):\n",
    "        dataset_x.append(close_list[i:i + window_size])\n",
    "        dataset_y.append(close_list[i + window_size:i + window_size + num_to_predict])\n",
    "    \n",
    "    return np.array(dataset_x), np.array(dataset_y)"
   ]
  },
  {
   "cell_type": "code",
   "execution_count": 155,
   "metadata": {},
   "outputs": [],
   "source": [
    "msft_x, msft_y = create_dataset_from_table(msft_df, WINDOW_SIZE, NUM_TO_PREDICT)\n",
    "aapl_x, aapl_y = create_dataset_from_table(aapl_df, WINDOW_SIZE, NUM_TO_PREDICT)\n",
    "nvda_x, nvda_y = create_dataset_from_table(nvda_df, WINDOW_SIZE, NUM_TO_PREDICT)\n",
    "amzn_x, amzn_y = create_dataset_from_table(amzn_df, WINDOW_SIZE, NUM_TO_PREDICT)\n",
    "tsla_x, tsla_y = create_dataset_from_table(tsla_df, WINDOW_SIZE, NUM_TO_PREDICT)"
   ]
  },
  {
   "cell_type": "code",
   "execution_count": 156,
   "metadata": {},
   "outputs": [],
   "source": [
    "def append_sentiment_to_stock(stock_x, stock_sentiment):\n",
    "    new_stock_x = []\n",
    "    for i in range(len(stock_x)):\n",
    "        new_stock_x.append(np.append(stock_x[i], stock_sentiment))\n",
    "    return np.array(new_stock_x)\n",
    "\n",
    "msft_x = append_sentiment_to_stock(msft_x, msft_sentiment)\n",
    "aapl_x = append_sentiment_to_stock(aapl_x, aapl_sentiment)\n",
    "nvda_x = append_sentiment_to_stock(nvda_x, nvda_sentiment)\n",
    "amzn_x = append_sentiment_to_stock(amzn_x, amzn_sentiment)\n",
    "tsla_x = append_sentiment_to_stock(tsla_x, tsl_sentiment)"
   ]
  },
  {
   "cell_type": "code",
   "execution_count": 158,
   "metadata": {},
   "outputs": [],
   "source": [
    "\n",
    "# combine each stock data to make dataset\n",
    "data_x = np.concatenate((msft_x, aapl_x, nvda_x, amzn_x, tsla_x))\n",
    "data_y = np.concatenate((msft_y, aapl_y, nvda_y, amzn_y, tsla_y))"
   ]
  },
  {
   "cell_type": "code",
   "execution_count": 159,
   "metadata": {},
   "outputs": [
    {
     "data": {
      "text/plain": [
       "array([0.06039643, 0.06255335, 0.06363237, 0.06201412, 0.06093566,\n",
       "       0.05931801, 0.05770034, 0.05608271, 0.05716112, 0.05877879,\n",
       "       0.05985724, 0.05931801, 0.05877879, 0.05931801, 0.05985724,\n",
       "       0.05985724, 0.05877879, 0.05931801, 0.06039643, 0.06093566,\n",
       "       0.06201412, 0.06255335, 0.06255335, 0.06471086, 0.06525005,\n",
       "       0.06309319, 0.06309319, 0.06201412, 0.06228374, 0.06848539,\n",
       "       0.07279978, 0.07333902, 0.07118148, 0.06956383, 0.06848539,\n",
       "       0.06848539, 0.06794617, 0.06848539, 0.06848539, 0.06902458,\n",
       "       0.06848539, 0.06902458, 0.06956383, 0.06902458, 0.06902458,\n",
       "       0.06956383, 0.06848539, 0.06794617, 0.06686772, 0.06686772,\n",
       "       0.06686772, 0.06902458, 0.07118148, 0.07279978, 0.07549588,\n",
       "       0.07333902, 0.07333902, 0.07279978, 0.07387819, 0.07387819,\n",
       "       0.07064226, 0.07064226, 0.07064226, 0.06794617, 0.06794617,\n",
       "       0.06740696, 0.06848539, 0.06794617, 0.06740696, 0.06767657,\n",
       "       0.06848539, 0.06794617, 0.06686772, 0.06471086, 0.06417161,\n",
       "       0.06632853, 0.06632853, 0.06632853, 0.06740696, 0.06471086,\n",
       "       0.06309319, 0.06039643, 0.05877879, 0.06039643, 0.05958761,\n",
       "       0.06039643, 0.06255335, 0.06363237, 0.06417161, 0.06417161,\n",
       "       0.06632853, 0.06471086, 0.06686772, 0.06740696, 0.06578927,\n",
       "       0.06417161, 0.06201412, 0.06147489, 0.06093566, 0.06093566,\n",
       "       0.3529875 ])"
      ]
     },
     "execution_count": 159,
     "metadata": {},
     "output_type": "execute_result"
    }
   ],
   "source": [
    "data_x[0]"
   ]
  },
  {
   "cell_type": "code",
   "execution_count": 160,
   "metadata": {},
   "outputs": [],
   "source": [
    "# split df using 80% for training and 20% for testing with train_test_split\n",
    "# NOTE: no validation set is used but can be added if desired in future\n",
    "\n",
    "from sklearn.model_selection import train_test_split\n",
    "train_x, test_x, train_y, test_y = train_test_split(data_x, data_y, test_size=0.2, shuffle=True)"
   ]
  },
  {
   "cell_type": "code",
   "execution_count": 166,
   "metadata": {},
   "outputs": [
    {
     "name": "stdout",
     "output_type": "stream",
     "text": [
      "Model: \"sequential_5\"\n",
      "_________________________________________________________________\n",
      " Layer (type)                Output Shape              Param #   \n",
      "=================================================================\n",
      " lstm_10 (LSTM)              (None, 101, 32)           4352      \n",
      "                                                                 \n",
      " lstm_11 (LSTM)              (None, 32)                8320      \n",
      "                                                                 \n",
      " dense_11 (Dense)            (None, 32)                1056      \n",
      "                                                                 \n",
      " dropout_5 (Dropout)         (None, 32)                0         \n",
      "                                                                 \n",
      " dense_12 (Dense)            (None, 10)                330       \n",
      "                                                                 \n",
      "=================================================================\n",
      "Total params: 14058 (54.91 KB)\n",
      "Trainable params: 14058 (54.91 KB)\n",
      "Non-trainable params: 0 (0.00 Byte)\n",
      "_________________________________________________________________\n"
     ]
    }
   ],
   "source": [
    "model = tf.keras.models.Sequential([\n",
    "    tf.keras.layers.LSTM(32, return_sequences=True, input_shape=(WINDOW_SIZE + SENTIMENT_IN_MODEL, 1)),\n",
    "    tf.keras.layers.LSTM(32),\n",
    "    tf.keras.layers.Dense(32, activation='relu'),\n",
    "    tf.keras.layers.Dropout(0.2),\n",
    "    tf.keras.layers.Dense(NUM_TO_PREDICT)\n",
    "])\n",
    "\n",
    "model.compile(\n",
    "    optimizer='adam',\n",
    "    loss='mse',\n",
    "    metrics=['mae']\n",
    ")\n",
    "\n",
    "model.summary()"
   ]
  },
  {
   "cell_type": "code",
   "execution_count": 167,
   "metadata": {},
   "outputs": [
    {
     "name": "stdout",
     "output_type": "stream",
     "text": [
      "Epoch 1/10\n",
      "900/900 [==============================] - 31s 33ms/step - loss: 1693.8680 - mae: 12.5867\n",
      "Epoch 2/10\n",
      "900/900 [==============================] - 30s 33ms/step - loss: 149.6169 - mae: 4.4408\n",
      "Epoch 3/10\n",
      "900/900 [==============================] - 30s 33ms/step - loss: 117.0511 - mae: 4.0156\n",
      "Epoch 4/10\n",
      "900/900 [==============================] - 30s 33ms/step - loss: 110.2019 - mae: 3.9031\n",
      "Epoch 5/10\n",
      "900/900 [==============================] - 30s 34ms/step - loss: 102.6569 - mae: 3.7849\n",
      "Epoch 6/10\n",
      "900/900 [==============================] - 30s 33ms/step - loss: 117.6156 - mae: 3.9349\n",
      "Epoch 7/10\n",
      "900/900 [==============================] - 30s 33ms/step - loss: 109.9035 - mae: 3.8787\n",
      "Epoch 8/10\n",
      "900/900 [==============================] - 30s 33ms/step - loss: 108.1721 - mae: 3.7972\n",
      "Epoch 9/10\n",
      "900/900 [==============================] - 30s 33ms/step - loss: 92.6044 - mae: 3.5923\n",
      "Epoch 10/10\n",
      "900/900 [==============================] - 30s 33ms/step - loss: 95.0240 - mae: 3.6166\n"
     ]
    }
   ],
   "source": [
    "# train the model\n",
    "history = model.fit(\n",
    "    train_x,\n",
    "    train_y,\n",
    "    epochs=10\n",
    ")"
   ]
  },
  {
   "cell_type": "code",
   "execution_count": 214,
   "metadata": {},
   "outputs": [
    {
     "name": "stdout",
     "output_type": "stream",
     "text": [
      "  1/225 [..............................] - ETA: 4s - loss: 19.1940 - mae: 1.5743"
     ]
    },
    {
     "name": "stdout",
     "output_type": "stream",
     "text": [
      "225/225 [==============================] - 2s 8ms/step - loss: 173.0404 - mae: 4.3116\n"
     ]
    },
    {
     "data": {
      "text/plain": [
       "[173.04042053222656, 4.311646938323975]"
      ]
     },
     "execution_count": 214,
     "metadata": {},
     "output_type": "execute_result"
    }
   ],
   "source": [
    "# testing accuracy\n",
    "model.evaluate(test_x, test_y)"
   ]
  },
  {
   "cell_type": "code",
   "execution_count": 215,
   "metadata": {},
   "outputs": [
    {
     "name": "stdout",
     "output_type": "stream",
     "text": [
      "293/293 [==============================] - 2s 8ms/step\n"
     ]
    },
    {
     "data": {
      "text/plain": [
       "(9371,)"
      ]
     },
     "execution_count": 215,
     "metadata": {},
     "output_type": "execute_result"
    }
   ],
   "source": [
    "# plot actual testing data vs predicted data\n",
    "predictions = model.predict(msft_x)\n",
    "\n",
    "# take the first prediction from each set of predictions\n",
    "predictions = predictions[:,0]\n",
    "predictions.shape"
   ]
  },
  {
   "cell_type": "code",
   "execution_count": 216,
   "metadata": {},
   "outputs": [
    {
     "data": {
      "image/png": "[encoded data removed]",
      "text/plain": [
       "<Figure size 640x480 with 1 Axes>"
      ]
     },
     "metadata": {},
     "output_type": "display_data"
    }
   ],
   "source": [
    "plt.plot(np.array(msft_df.Close), label='Actual')\n",
    "plt.plot(predictions, label='Predicted')\n",
    "plt.legend()\n",
    "plt.show()"
   ]
  },
  {
   "cell_type": "code",
   "execution_count": 217,
   "metadata": {},
   "outputs": [
    {
     "name": "stdout",
     "output_type": "stream",
     "text": [
      "1/1 [==============================] - 0s 16ms/step\n"
     ]
    },
    {
     "data": {
      "text/plain": [
       "array([382.4833 , 382.90717, 383.21225, 383.06287, 383.35654, 382.80704,\n",
       "       382.58362, 383.00928, 382.57104, 382.31546], dtype=float32)"
      ]
     },
     "execution_count": 217,
     "metadata": {},
     "output_type": "execute_result"
    }
   ],
   "source": [
    "# use the model to predict the last EXTRAPOLATE_DAYS\n",
    "last_window = np.array(msft_df.Close)[-WINDOW_SIZE:]\n",
    "complete_predictions = np.array([])\n",
    "prediction = model.predict(np.array([last_window]))\n",
    "prediction[0]"
   ]
  },
  {
   "cell_type": "code",
   "execution_count": 218,
   "metadata": {},
   "outputs": [
    {
     "name": "stdout",
     "output_type": "stream",
     "text": [
      "1/1 [==============================] - 0s 20ms/step\n",
      "1/1 [==============================] - 0s 15ms/step\n",
      "1/1 [==============================] - 0s 16ms/step\n",
      "1/1 [==============================] - 0s 16ms/step\n",
      "1/1 [==============================] - 0s 15ms/step\n",
      "1/1 [==============================] - 0s 16ms/step\n",
      "1/1 [==============================] - 0s 16ms/step\n",
      "1/1 [==============================] - 0s 18ms/step\n",
      "1/1 [==============================] - 0s 17ms/step\n",
      "1/1 [==============================] - 0s 17ms/step\n",
      "1/1 [==============================] - 0s 17ms/step\n",
      "1/1 [==============================] - 0s 17ms/step\n",
      "1/1 [==============================] - 0s 17ms/step\n",
      "1/1 [==============================] - 0s 16ms/step\n",
      "1/1 [==============================] - 0s 17ms/step\n",
      "1/1 [==============================] - 0s 17ms/step\n",
      "1/1 [==============================] - 0s 17ms/step\n",
      "1/1 [==============================] - 0s 16ms/step\n",
      "1/1 [==============================] - 0s 16ms/step\n",
      "1/1 [==============================] - 0s 17ms/step\n"
     ]
    },
    {
     "data": {
      "text/plain": [
       "array([405.5786438 , 406.00244141, 406.36685181, 406.12612915,\n",
       "       406.54281616, 405.93856812, 405.69741821, 406.16723633,\n",
       "       405.67871094, 405.4588623 , 481.11480713, 481.49038696,\n",
       "       481.87353516, 481.62182617, 482.12316895, 481.3298645 ,\n",
       "       480.90344238, 481.63980103, 480.95758057, 480.60522461,\n",
       "       493.17050171, 493.53143311, 493.91543579, 493.64883423,\n",
       "       494.16351318, 493.34017944, 492.88528442, 493.66616821,\n",
       "       492.93701172, 492.56314087, 493.66040039, 494.02062988,\n",
       "       494.4045105 , 494.13742065, 494.65249634, 493.82803345,\n",
       "       493.37188721, 494.15463257, 493.42352295, 493.04901123,\n",
       "       493.6812439 , 494.04144287, 494.42532349, 494.15817261,\n",
       "       494.67324829, 493.84872437, 493.39254761, 494.17538452,\n",
       "       493.44412231, 493.0696106 , 493.68527222, 494.04553223,\n",
       "       494.42944336, 494.16223145, 494.67727661, 493.8527832 ,\n",
       "       493.39657593, 494.17941284, 493.44824219, 493.07366943,\n",
       "       493.68875122, 494.04904175, 494.43283081, 494.16577148,\n",
       "       494.68081665, 493.85617065, 493.40005493, 494.18295288,\n",
       "       493.45169067, 493.07714844, 493.69122314, 494.05136108,\n",
       "       494.43530273, 494.16812134, 494.68313599, 493.85870361,\n",
       "       493.40249634, 494.18536377, 493.45407104, 493.07952881,\n",
       "       493.69451904, 494.05480957, 494.43865967, 494.17147827,\n",
       "       494.68655396, 493.86203003, 493.40585327, 494.18875122,\n",
       "       493.45748901, 493.08285522, 493.69805908, 494.0581665 ,\n",
       "       494.44210815, 494.17495728, 494.69006348, 493.86541748,\n",
       "       493.40921021, 494.19216919, 493.46084595, 493.08633423,\n",
       "       493.70028687, 494.0604248 , 494.44436646, 494.17721558,\n",
       "       494.69229126, 493.86779785, 493.41146851, 494.19442749,\n",
       "       493.46322632, 493.08856201, 493.70050049, 494.06069946,\n",
       "       494.44464111, 494.17736816, 494.69250488, 493.86795044,\n",
       "       493.41168213, 494.19464111, 493.46334839, 493.08883667,\n",
       "       493.70050049, 494.06069946, 494.44464111, 494.17736816,\n",
       "       494.69247437, 493.86795044, 493.41168213, 494.1946106 ,\n",
       "       493.46334839, 493.08883667, 493.70050049, 494.06069946,\n",
       "       494.44464111, 494.17739868, 494.69247437, 493.86795044,\n",
       "       493.41168213, 494.19464111, 493.46334839, 493.08880615,\n",
       "       493.70050049, 494.06069946, 494.44464111, 494.17736816,\n",
       "       494.6925354 , 493.86798096, 493.41168213, 494.19467163,\n",
       "       493.46334839, 493.08883667, 493.70050049, 494.06069946,\n",
       "       494.44464111, 494.17736816, 494.6925354 , 493.86795044,\n",
       "       493.41168213, 494.1946106 , 493.46334839, 493.08883667,\n",
       "       493.70050049, 494.06069946, 494.44464111, 494.17739868,\n",
       "       494.69247437, 493.86795044, 493.41168213, 494.19464111,\n",
       "       493.46334839, 493.08880615, 493.70046997, 494.06069946,\n",
       "       494.44464111, 494.17739868, 494.69247437, 493.86795044,\n",
       "       493.41171265, 494.19467163, 493.46334839, 493.08880615,\n",
       "       493.70050049, 494.06072998, 494.44464111, 494.17739868,\n",
       "       494.69250488, 493.86795044, 493.41168213, 494.19467163,\n",
       "       493.46334839, 493.08883667, 493.70050049, 494.06069946,\n",
       "       494.44464111, 494.17739868, 494.69250488, 493.86798096,\n",
       "       493.41171265, 494.19467163, 493.46334839, 493.08883667])"
      ]
     },
     "execution_count": 218,
     "metadata": {},
     "output_type": "execute_result"
    }
   ],
   "source": [
    "while len(complete_predictions) < EXTRAPOLATE_DAYS:\n",
    "    prediction = model.predict(np.array([np.append(last_window, msft_sentiment)]))\n",
    "    complete_predictions = np.concatenate((complete_predictions, prediction[0]))\n",
    "    last_window = np.concatenate((last_window[DAYS_TO_TAKE_FROM_EACH_PREDICTION:], prediction[0]))\n",
    "\n",
    "complete_predictions"
   ]
  },
  {
   "cell_type": "code",
   "execution_count": 220,
   "metadata": {},
   "outputs": [
    {
     "data": {
      "text/plain": [
       "array([1.71763420e-01, 1.73675179e-01, 1.74905300e-01, ...,\n",
       "       4.94194672e+02, 4.93463348e+02, 4.93088837e+02])"
      ]
     },
     "execution_count": 220,
     "metadata": {},
     "output_type": "execute_result"
    }
   ],
   "source": [
    "model_completed_predictions = np.array(list(predictions) + list(complete_predictions))\n",
    "model_completed_predictions"
   ]
  },
  {
   "cell_type": "code",
   "execution_count": 221,
   "metadata": {},
   "outputs": [
    {
     "data": {
      "image/png": "[encoded data removed]",
      "text/plain": [
       "<Figure size 640x480 with 1 Axes>"
      ]
     },
     "metadata": {},
     "output_type": "display_data"
    }
   ],
   "source": [
    "plt.plot(np.array(msft_df.Close), label='Actual')\n",
    "plt.plot(model_completed_predictions, label='Predicted')\n",
    "plt.legend()\n",
    "plt.show()"
   ]
  },
  {
   "cell_type": "code",
   "execution_count": 222,
   "metadata": {},
   "outputs": [
    {
     "data": {
      "text/plain": [
       "9571"
      ]
     },
     "execution_count": 222,
     "metadata": {},
     "output_type": "execute_result"
    }
   ],
   "source": [
    "len(model_completed_predictions)"
   ]
  },
  {
   "cell_type": "code",
   "execution_count": 226,
   "metadata": {},
   "outputs": [
    {
     "name": "stderr",
     "output_type": "stream",
     "text": [
      "/Users/dhruv/Documents/TestCode/COMP3900/3900_project/lib/python3.11/site-packages/keras/src/engine/training.py:3079: UserWarning: You are saving your model as an HDF5 file via `model.save()`. This file format is considered legacy. We recommend using instead the native Keras format, e.g. `model.save('my_model.keras')`.\n",
      "  saving_api.save_model(\n"
     ]
    }
   ],
   "source": [
    "# save the model\n",
    "model.save('stock_predictor.h5')"
   ]
  }
 ],
 "metadata": {
  "kernelspec": {
   "display_name": "3900_project",
   "language": "python",
   "name": "python3"
  },
  "language_info": {
   "codemirror_mode": {
    "name": "ipython",
    "version": 3
   },
   "file_extension": ".py",
   "mimetype": "text/x-python",
   "name": "python",
   "nbconvert_exporter": "python",
   "pygments_lexer": "ipython3",
   "version": "3.11.4"
  }
 },
 "nbformat": 4,
 "nbformat_minor": 2
}
