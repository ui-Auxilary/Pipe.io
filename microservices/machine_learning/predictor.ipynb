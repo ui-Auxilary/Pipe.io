{
 "cells": [
  {
   "cell_type": "code",
   "execution_count": 44,
   "metadata": {},
   "outputs": [],
   "source": [
    "# we don't want to see future warnings\n",
    "import warnings\n",
    "warnings.simplefilter(action='ignore', category=FutureWarning)\n",
    "\n",
    "import yfinance as yf\n",
    "\n",
    "import tensorflow as tf\n",
    "import numpy as np\n",
    "import pandas as pd\n",
    "import matplotlib.pyplot as plt\n",
    "\n",
    "from sentiment_analysis import sentiment_analysis_microservice\n"
   ]
  },
  {
   "cell_type": "code",
   "execution_count": 45,
   "metadata": {},
   "outputs": [],
   "source": [
    "WINDOW_SIZE = 100\n",
    "SENTIMENT_IN_MODEL = 1\n",
    "NUM_TO_PREDICT = 10\n",
    "\n",
    "EXTRAPOLATE_DAYS = 200\n",
    "DAYS_TO_TAKE_FROM_EACH_PREDICTION = 10"
   ]
  },
  {
   "cell_type": "code",
   "execution_count": 46,
   "metadata": {},
   "outputs": [
    {
     "data": {
      "text/html": [
       "<div>\n",
       "<style scoped>\n",
       "    .dataframe tbody tr th:only-of-type {\n",
       "        vertical-align: middle;\n",
       "    }\n",
       "\n",
       "    .dataframe tbody tr th {\n",
       "        vertical-align: top;\n",
       "    }\n",
       "\n",
       "    .dataframe thead th {\n",
       "        text-align: right;\n",
       "    }\n",
       "</style>\n",
       "<table border=\"1\" class=\"dataframe\">\n",
       "  <thead>\n",
       "    <tr style=\"text-align: right;\">\n",
       "      <th></th>\n",
       "      <th>Close</th>\n",
       "    </tr>\n",
       "    <tr>\n",
       "      <th>Date</th>\n",
       "      <th></th>\n",
       "    </tr>\n",
       "  </thead>\n",
       "  <tbody>\n",
       "    <tr>\n",
       "      <th>1986-03-13 00:00:00-05:00</th>\n",
       "      <td>0.060396</td>\n",
       "    </tr>\n",
       "    <tr>\n",
       "      <th>1986-03-14 00:00:00-05:00</th>\n",
       "      <td>0.062553</td>\n",
       "    </tr>\n",
       "    <tr>\n",
       "      <th>1986-03-17 00:00:00-05:00</th>\n",
       "      <td>0.063632</td>\n",
       "    </tr>\n",
       "    <tr>\n",
       "      <th>1986-03-18 00:00:00-05:00</th>\n",
       "      <td>0.062014</td>\n",
       "    </tr>\n",
       "    <tr>\n",
       "      <th>1986-03-19 00:00:00-05:00</th>\n",
       "      <td>0.060936</td>\n",
       "    </tr>\n",
       "    <tr>\n",
       "      <th>...</th>\n",
       "      <td>...</td>\n",
       "    </tr>\n",
       "    <tr>\n",
       "      <th>2023-10-30 00:00:00-04:00</th>\n",
       "      <td>337.309998</td>\n",
       "    </tr>\n",
       "    <tr>\n",
       "      <th>2023-10-31 00:00:00-04:00</th>\n",
       "      <td>338.109985</td>\n",
       "    </tr>\n",
       "    <tr>\n",
       "      <th>2023-11-01 00:00:00-04:00</th>\n",
       "      <td>346.070007</td>\n",
       "    </tr>\n",
       "    <tr>\n",
       "      <th>2023-11-02 00:00:00-04:00</th>\n",
       "      <td>348.320007</td>\n",
       "    </tr>\n",
       "    <tr>\n",
       "      <th>2023-11-03 00:00:00-04:00</th>\n",
       "      <td>352.799988</td>\n",
       "    </tr>\n",
       "  </tbody>\n",
       "</table>\n",
       "<p>9489 rows × 1 columns</p>\n",
       "</div>"
      ],
      "text/plain": [
       "                                Close\n",
       "Date                                 \n",
       "1986-03-13 00:00:00-05:00    0.060396\n",
       "1986-03-14 00:00:00-05:00    0.062553\n",
       "1986-03-17 00:00:00-05:00    0.063632\n",
       "1986-03-18 00:00:00-05:00    0.062014\n",
       "1986-03-19 00:00:00-05:00    0.060936\n",
       "...                               ...\n",
       "2023-10-30 00:00:00-04:00  337.309998\n",
       "2023-10-31 00:00:00-04:00  338.109985\n",
       "2023-11-01 00:00:00-04:00  346.070007\n",
       "2023-11-02 00:00:00-04:00  348.320007\n",
       "2023-11-03 00:00:00-04:00  352.799988\n",
       "\n",
       "[9489 rows x 1 columns]"
      ]
     },
     "execution_count": 46,
     "metadata": {},
     "output_type": "execute_result"
    }
   ],
   "source": [
    "# get msft stock closing data\n",
    "msft = yf.Ticker(\"MSFT\")\n",
    "msft_data = msft.history(period=\"max\")\n",
    "msft_df = pd.DataFrame(msft_data.Close)\n",
    "msft_sentiment = sentiment_analysis_microservice('MSFT')\n",
    "\n",
    "aapl = yf.Ticker(\"AAPL\")\n",
    "aapl_data = aapl.history(period=\"max\")\n",
    "aapl_df = pd.DataFrame(aapl_data.Close)\n",
    "aapl_sentiment = sentiment_analysis_microservice('AAPL')\n",
    "\n",
    "nvda = yf.Ticker(\"NVDA\")\n",
    "nvda_data = nvda.history(period=\"max\")\n",
    "nvda_df = pd.DataFrame(nvda_data.Close)\n",
    "nvda_sentiment = sentiment_analysis_microservice('NVDA')\n",
    "\n",
    "amzn = yf.Ticker(\"AMZN\")\n",
    "amzn_data = amzn.history(period=\"max\")\n",
    "amzn_df = pd.DataFrame(amzn_data.Close)\n",
    "amzn_sentiment = sentiment_analysis_microservice('AMZN')\n",
    "\n",
    "tsla = yf.Ticker(\"TSLA\")\n",
    "tsla_data = tsla.history(period=\"max\")\n",
    "tsla_df = pd.DataFrame(tsla_data.Close)\n",
    "tsla_sentiment = sentiment_analysis_microservice('TSLA')\n",
    "\n",
    "msft_df"
   ]
  },
  {
   "cell_type": "code",
   "execution_count": 47,
   "metadata": {},
   "outputs": [
    {
     "data": {
      "text/html": [
       "<div>\n",
       "<style scoped>\n",
       "    .dataframe tbody tr th:only-of-type {\n",
       "        vertical-align: middle;\n",
       "    }\n",
       "\n",
       "    .dataframe tbody tr th {\n",
       "        vertical-align: top;\n",
       "    }\n",
       "\n",
       "    .dataframe thead th {\n",
       "        text-align: right;\n",
       "    }\n",
       "</style>\n",
       "<table border=\"1\" class=\"dataframe\">\n",
       "  <thead>\n",
       "    <tr style=\"text-align: right;\">\n",
       "      <th></th>\n",
       "      <th>Close</th>\n",
       "    </tr>\n",
       "  </thead>\n",
       "  <tbody>\n",
       "    <tr>\n",
       "      <th>count</th>\n",
       "      <td>9481.000000</td>\n",
       "    </tr>\n",
       "    <tr>\n",
       "      <th>mean</th>\n",
       "      <td>45.977283</td>\n",
       "    </tr>\n",
       "    <tr>\n",
       "      <th>std</th>\n",
       "      <td>76.168438</td>\n",
       "    </tr>\n",
       "    <tr>\n",
       "      <th>min</th>\n",
       "      <td>0.056083</td>\n",
       "    </tr>\n",
       "    <tr>\n",
       "      <th>25%</th>\n",
       "      <td>3.397310</td>\n",
       "    </tr>\n",
       "    <tr>\n",
       "      <th>50%</th>\n",
       "      <td>19.096367</td>\n",
       "    </tr>\n",
       "    <tr>\n",
       "      <th>75%</th>\n",
       "      <td>35.296585</td>\n",
       "    </tr>\n",
       "    <tr>\n",
       "      <th>max</th>\n",
       "      <td>358.730469</td>\n",
       "    </tr>\n",
       "  </tbody>\n",
       "</table>\n",
       "</div>"
      ],
      "text/plain": [
       "             Close\n",
       "count  9481.000000\n",
       "mean     45.977283\n",
       "std      76.168438\n",
       "min       0.056083\n",
       "25%       3.397310\n",
       "50%      19.096367\n",
       "75%      35.296585\n",
       "max     358.730469"
      ]
     },
     "metadata": {},
     "output_type": "display_data"
    },
    {
     "data": {
      "text/plain": [
       "<Axes: xlabel='Date'>"
      ]
     },
     "execution_count": 123,
     "metadata": {},
     "output_type": "execute_result"
    },
    {
     "data": {
      "image/png": "[encoded data removed]",
      "text/plain": [
       "<Figure size 640x480 with 1 Axes>"
      ]
     },
     "metadata": {},
     "output_type": "display_data"
    }
   ],
   "source": [
    "# get a summary of the data and graph\n",
    "display(msft_df.describe())\n",
    "msft_df.plot()"
   ]
  },
  {
   "cell_type": "code",
   "execution_count": 48,
   "metadata": {},
   "outputs": [
    {
     "data": {
      "text/html": [
       "<div>\n",
       "<style scoped>\n",
       "    .dataframe tbody tr th:only-of-type {\n",
       "        vertical-align: middle;\n",
       "    }\n",
       "\n",
       "    .dataframe tbody tr th {\n",
       "        vertical-align: top;\n",
       "    }\n",
       "\n",
       "    .dataframe thead th {\n",
       "        text-align: right;\n",
       "    }\n",
       "</style>\n",
       "<table border=\"1\" class=\"dataframe\">\n",
       "  <thead>\n",
       "    <tr style=\"text-align: right;\">\n",
       "      <th></th>\n",
       "      <th>Close</th>\n",
       "    </tr>\n",
       "  </thead>\n",
       "  <tbody>\n",
       "    <tr>\n",
       "      <th>count</th>\n",
       "      <td>9489.000000</td>\n",
       "    </tr>\n",
       "    <tr>\n",
       "      <th>mean</th>\n",
       "      <td>46.225271</td>\n",
       "    </tr>\n",
       "    <tr>\n",
       "      <th>std</th>\n",
       "      <td>76.613876</td>\n",
       "    </tr>\n",
       "    <tr>\n",
       "      <th>min</th>\n",
       "      <td>0.056083</td>\n",
       "    </tr>\n",
       "    <tr>\n",
       "      <th>25%</th>\n",
       "      <td>3.402161</td>\n",
       "    </tr>\n",
       "    <tr>\n",
       "      <th>50%</th>\n",
       "      <td>19.102581</td>\n",
       "    </tr>\n",
       "    <tr>\n",
       "      <th>75%</th>\n",
       "      <td>35.527729</td>\n",
       "    </tr>\n",
       "    <tr>\n",
       "      <th>max</th>\n",
       "      <td>358.730469</td>\n",
       "    </tr>\n",
       "  </tbody>\n",
       "</table>\n",
       "</div>"
      ],
      "text/plain": [
       "             Close\n",
       "count  9489.000000\n",
       "mean     46.225271\n",
       "std      76.613876\n",
       "min       0.056083\n",
       "25%       3.402161\n",
       "50%      19.102581\n",
       "75%      35.527729\n",
       "max     358.730469"
      ]
     },
     "metadata": {},
     "output_type": "display_data"
    },
    {
     "data": {
      "text/plain": [
       "<Axes: xlabel='Date'>"
      ]
     },
     "execution_count": 48,
     "metadata": {},
     "output_type": "execute_result"
    },
    {
     "data": {
      "image/png": "[encoded data removed]",
      "text/plain": [
       "<Figure size 640x480 with 1 Axes>"
      ]
     },
     "metadata": {},
     "output_type": "display_data"
    }
   ],
   "source": [
    "# get a summary of the data and graph\n",
    "display(msft_df.describe())\n",
    "msft_df.plot()"
   ]
  },
  {
   "cell_type": "code",
   "execution_count": 49,
   "metadata": {},
   "outputs": [],
   "source": [
    "# create a function to create the data sets\n",
    "def create_dataset_from_table(price_df, window_size, num_to_predict):\n",
    "    close_list = price_df.Close.values\n",
    "    dataset_x = []\n",
    "    dataset_y = []\n",
    "\n",
    "    for i in range(len(close_list) - window_size - num_to_predict):\n",
    "        dataset_x.append(close_list[i:i + window_size])\n",
    "        dataset_y.append(close_list[i + window_size:i + window_size + num_to_predict])\n",
    "    \n",
    "    return np.array(dataset_x), np.array(dataset_y)"
   ]
  },
  {
   "cell_type": "code",
   "execution_count": 50,
   "metadata": {},
   "outputs": [],
   "source": [
    "msft_x, msft_y = create_dataset_from_table(msft_df, WINDOW_SIZE, NUM_TO_PREDICT)\n",
    "aapl_x, aapl_y = create_dataset_from_table(aapl_df, WINDOW_SIZE, NUM_TO_PREDICT)\n",
    "nvda_x, nvda_y = create_dataset_from_table(nvda_df, WINDOW_SIZE, NUM_TO_PREDICT)\n",
    "amzn_x, amzn_y = create_dataset_from_table(amzn_df, WINDOW_SIZE, NUM_TO_PREDICT)\n",
    "tsla_x, tsla_y = create_dataset_from_table(tsla_df, WINDOW_SIZE, NUM_TO_PREDICT)"
   ]
  },
  {
   "cell_type": "code",
   "execution_count": 51,
   "metadata": {},
   "outputs": [],
   "source": [
    "def append_sentiment_to_stock(stock_x, stock_sentiment):\n",
    "    new_stock_x = []\n",
    "    for i in range(len(stock_x)):\n",
    "        new_stock_x.append(np.append(stock_x[i], stock_sentiment))\n",
    "    return np.array(new_stock_x)\n",
    "\n",
    "msft_x = append_sentiment_to_stock(msft_x, msft_sentiment)\n",
    "aapl_x = append_sentiment_to_stock(aapl_x, aapl_sentiment)\n",
    "nvda_x = append_sentiment_to_stock(nvda_x, nvda_sentiment)\n",
    "amzn_x = append_sentiment_to_stock(amzn_x, amzn_sentiment)\n",
    "tsla_x = append_sentiment_to_stock(tsla_x, tsla_sentiment)"
   ]
  },
  {
   "cell_type": "code",
   "execution_count": 52,
   "metadata": {},
   "outputs": [],
   "source": [
    "\n",
    "# combine each stock data to make dataset\n",
    "data_x = np.concatenate((aapl_x, nvda_x, amzn_x, tsla_x))\n",
    "data_y = np.concatenate((aapl_y, nvda_y, amzn_y, tsla_y))"
   ]
  },
  {
   "cell_type": "code",
   "execution_count": 53,
   "metadata": {},
   "outputs": [
    {
     "data": {
      "text/plain": [
       "array([0.09944949, 0.09426119, 0.08734258, 0.08950439, 0.09209937,\n",
       "       0.09772008, 0.10247604, 0.10680041, 0.11242121, 0.12279864,\n",
       "       0.12452803, 0.12150156, 0.11804263, 0.11933977, 0.11674558,\n",
       "       0.11155634, 0.10680041, 0.10463864, 0.11025934, 0.10939463,\n",
       "       0.10550337, 0.1059357 , 0.10809753, 0.10723282, 0.11371824,\n",
       "       0.11025934, 0.11242121, 0.11371824, 0.11328587, 0.11155634,\n",
       "       0.11069168, 0.10723282, 0.10334153, 0.09772008, 0.09209937,\n",
       "       0.09555826, 0.09901717, 0.09901717, 0.09944949, 0.09426119,\n",
       "       0.09426119, 0.09123464, 0.09036914, 0.08820735, 0.09036914,\n",
       "       0.09426119, 0.08863969, 0.0838837 , 0.08518078, 0.08215429,\n",
       "       0.08734258, 0.08863969, 0.09166698, 0.09209937, 0.09080229,\n",
       "       0.08993676, 0.08950439, 0.08863969, 0.08172189, 0.07782987,\n",
       "       0.07480332, 0.07782987, 0.07696513, 0.07999246, 0.0838837 ,\n",
       "       0.08907204, 0.08820735, 0.08907204, 0.09253175, 0.09209937,\n",
       "       0.09036914, 0.08863969, 0.08561315, 0.08561315, 0.08474843,\n",
       "       0.0838837 , 0.09123464, 0.09166698, 0.08993676, 0.08907204,\n",
       "       0.09339645, 0.09512588, 0.09642297, 0.09642297, 0.09642297,\n",
       "       0.09166698, 0.08647788, 0.08907204, 0.09512588, 0.09858481,\n",
       "       0.10117896, 0.10031426, 0.09944949, 0.09772008, 0.09642297,\n",
       "       0.09815241, 0.09815241, 0.09772008, 0.09728771, 0.09469354,\n",
       "       0.158825  ])"
      ]
     },
     "execution_count": 53,
     "metadata": {},
     "output_type": "execute_result"
    }
   ],
   "source": [
    "data_x[0]"
   ]
  },
  {
   "cell_type": "code",
   "execution_count": 54,
   "metadata": {},
   "outputs": [],
   "source": [
    "# split df using 80% for training and 20% for testing with train_test_split\n",
    "# NOTE: no validation set is used but can be added if desired in future\n",
    "\n",
    "from sklearn.model_selection import train_test_split\n",
    "train_x, test_x, train_y, test_y = train_test_split(data_x, data_y, test_size=0.2, shuffle=True)"
   ]
  },
  {
   "cell_type": "code",
   "execution_count": 55,
   "metadata": {},
   "outputs": [
    {
     "name": "stdout",
     "output_type": "stream",
     "text": [
      "Model: \"sequential_1\"\n",
      "_________________________________________________________________\n",
      " Layer (type)                Output Shape              Param #   \n",
      "=================================================================\n",
      " lstm_2 (LSTM)               (None, 101, 32)           4352      \n",
      "                                                                 \n",
      " lstm_3 (LSTM)               (None, 32)                8320      \n",
      "                                                                 \n",
      " dense_2 (Dense)             (None, 32)                1056      \n",
      "                                                                 \n",
      " dropout_1 (Dropout)         (None, 32)                0         \n",
      "                                                                 \n",
      " dense_3 (Dense)             (None, 10)                330       \n",
      "                                                                 \n",
      "=================================================================\n",
      "Total params: 14058 (54.91 KB)\n",
      "Trainable params: 14058 (54.91 KB)\n",
      "Non-trainable params: 0 (0.00 Byte)\n",
      "_________________________________________________________________\n"
     ]
    }
   ],
   "source": [
    "model = tf.keras.models.Sequential([\n",
    "    tf.keras.layers.LSTM(32, return_sequences=True, input_shape=(WINDOW_SIZE + SENTIMENT_IN_MODEL, 1)),\n",
    "    tf.keras.layers.LSTM(32),\n",
    "    tf.keras.layers.Dense(32, activation='relu'),\n",
    "    tf.keras.layers.Dropout(0.2),\n",
    "    tf.keras.layers.Dense(NUM_TO_PREDICT)\n",
    "])\n",
    "\n",
    "model.compile(\n",
    "    optimizer='adam',\n",
    "    loss='mse',\n",
    "    metrics=['mae']\n",
    ")\n",
    "\n",
    "model.summary()"
   ]
  },
  {
   "cell_type": "code",
   "execution_count": 56,
   "metadata": {},
   "outputs": [
    {
     "name": "stdout",
     "output_type": "stream",
     "text": [
      "Epoch 1/10\n",
      "666/666 [==============================] - 24s 33ms/step - loss: 2190.8496 - mae: 15.0572\n",
      "Epoch 2/10\n",
      "666/666 [==============================] - 22s 33ms/step - loss: 250.3682 - mae: 5.1075\n",
      "Epoch 3/10\n",
      "666/666 [==============================] - 22s 33ms/step - loss: 163.8951 - mae: 4.5070\n",
      "Epoch 4/10\n",
      "666/666 [==============================] - 22s 33ms/step - loss: 137.2995 - mae: 4.0512\n",
      "Epoch 5/10\n",
      "666/666 [==============================] - 22s 33ms/step - loss: 126.0343 - mae: 3.9947\n",
      "Epoch 6/10\n",
      "666/666 [==============================] - 22s 33ms/step - loss: 127.1623 - mae: 4.0549\n",
      "Epoch 7/10\n",
      "666/666 [==============================] - 22s 33ms/step - loss: 109.8923 - mae: 3.7995\n",
      "Epoch 8/10\n",
      "666/666 [==============================] - 22s 33ms/step - loss: 110.2967 - mae: 3.7646\n",
      "Epoch 9/10\n",
      "666/666 [==============================] - 22s 33ms/step - loss: 119.3774 - mae: 3.8430\n",
      "Epoch 10/10\n",
      "666/666 [==============================] - 22s 33ms/step - loss: 115.2286 - mae: 3.7377\n"
     ]
    }
   ],
   "source": [
    "# train the model\n",
    "history = model.fit(\n",
    "    train_x,\n",
    "    train_y,\n",
    "    epochs=10\n",
    ")"
   ]
  },
  {
   "cell_type": "code",
   "execution_count": 57,
   "metadata": {},
   "outputs": [
    {
     "name": "stdout",
     "output_type": "stream",
     "text": [
      "167/167 [==============================] - 2s 8ms/step - loss: 93.4114 - mae: 2.6950\n"
     ]
    },
    {
     "data": {
      "text/plain": [
       "[93.41139221191406, 2.6949527263641357]"
      ]
     },
     "execution_count": 57,
     "metadata": {},
     "output_type": "execute_result"
    }
   ],
   "source": [
    "# testing accuracy\n",
    "model.evaluate(test_x, test_y)"
   ]
  },
  {
   "cell_type": "code",
   "execution_count": 58,
   "metadata": {},
   "outputs": [
    {
     "name": "stdout",
     "output_type": "stream",
     "text": [
      "294/294 [==============================] - 3s 7ms/step\n"
     ]
    },
    {
     "data": {
      "text/plain": [
       "(9379,)"
      ]
     },
     "execution_count": 58,
     "metadata": {},
     "output_type": "execute_result"
    }
   ],
   "source": [
    "# plot actual testing data vs predicted data\n",
    "predictions = model.predict(msft_x)\n",
    "\n",
    "# take the first prediction from each set of predictions\n",
    "predictions = predictions[:,0]\n",
    "predictions.shape"
   ]
  },
  {
   "cell_type": "code",
   "execution_count": 59,
   "metadata": {},
   "outputs": [
    {
     "data": {
      "image/png": "[encoded data removed]",
      "text/plain": [
       "<Figure size 640x480 with 1 Axes>"
      ]
     },
     "metadata": {},
     "output_type": "display_data"
    }
   ],
   "source": [
    "plt.plot(np.array(msft_df.Close), label='Actual')\n",
    "plt.plot(predictions, label='Predicted')\n",
    "plt.legend()\n",
    "plt.show()"
   ]
  },
  {
   "cell_type": "code",
   "execution_count": 60,
   "metadata": {},
   "outputs": [
    {
     "name": "stdout",
     "output_type": "stream",
     "text": [
      "1/1 [==============================] - 0s 405ms/step\n"
     ]
    },
    {
     "data": {
      "text/plain": [
       "array([367.1828 , 367.3407 , 369.53323, 369.47736, 368.69128, 369.05496,\n",
       "       368.50632, 367.59747, 367.64584, 367.67038], dtype=float32)"
      ]
     },
     "execution_count": 60,
     "metadata": {},
     "output_type": "execute_result"
    }
   ],
   "source": [
    "# use the model to predict the last EXTRAPOLATE_DAYS\n",
    "last_window = np.array(msft_df.Close)[-WINDOW_SIZE:]\n",
    "complete_predictions = np.array([])\n",
    "prediction = model.predict(np.array([last_window]))\n",
    "prediction[0]"
   ]
  },
  {
   "cell_type": "code",
   "execution_count": 61,
   "metadata": {},
   "outputs": [
    {
     "name": "stdout",
     "output_type": "stream",
     "text": [
      "1/1 [==============================] - 0s 17ms/step\n",
      "1/1 [==============================] - 0s 16ms/step\n",
      "1/1 [==============================] - 0s 15ms/step\n",
      "1/1 [==============================] - 0s 15ms/step\n",
      "1/1 [==============================] - 0s 15ms/step\n",
      "1/1 [==============================] - 0s 15ms/step\n",
      "1/1 [==============================] - 0s 15ms/step\n",
      "1/1 [==============================] - 0s 15ms/step\n",
      "1/1 [==============================] - 0s 15ms/step\n",
      "1/1 [==============================] - 0s 15ms/step\n",
      "1/1 [==============================] - 0s 16ms/step\n",
      "1/1 [==============================] - 0s 15ms/step\n",
      "1/1 [==============================] - 0s 15ms/step\n",
      "1/1 [==============================] - 0s 19ms/step\n",
      "1/1 [==============================] - 0s 15ms/step\n",
      "1/1 [==============================] - 0s 16ms/step\n",
      "1/1 [==============================] - 0s 15ms/step\n",
      "1/1 [==============================] - 0s 16ms/step\n",
      "1/1 [==============================] - 0s 15ms/step\n",
      "1/1 [==============================] - 0s 15ms/step\n"
     ]
    },
    {
     "data": {
      "text/plain": [
       "array([414.48132324, 414.74893188, 417.17785645, 417.17175293,\n",
       "       416.22714233, 416.85406494, 416.26782227, 415.11178589,\n",
       "       415.08432007, 415.06829834, 434.92544556, 435.08621216,\n",
       "       437.73773193, 437.57330322, 436.52902222, 437.21847534,\n",
       "       436.58572388, 435.41149902, 435.42623901, 435.33602905,\n",
       "       437.92114258, 438.06573486, 440.75024414, 440.55984497,\n",
       "       439.50143433, 440.19970703, 439.56066895, 438.38516235,\n",
       "       438.40740967, 438.30374146, 438.44500732, 438.58633423,\n",
       "       441.27713013, 441.08151245, 440.02041626, 440.7199707 ,\n",
       "       440.0802002 , 438.90481567, 438.92849731, 438.82223511,\n",
       "       438.56921387, 438.70956421, 441.40206909, 441.20498657,\n",
       "       440.14318848, 440.84289551, 440.20300293, 439.027771  ,\n",
       "       439.05178833, 438.94491577, 438.60702515, 438.74707031,\n",
       "       441.43997192, 441.24255371, 440.18048096, 440.88024902,\n",
       "       440.24035645, 439.06521606, 439.08926392, 438.98226929,\n",
       "       438.62081909, 438.76083374, 441.45388794, 441.2562561 ,\n",
       "       440.19418335, 440.89398193, 440.25402832, 439.07894897,\n",
       "       439.10302734, 438.99594116, 438.62692261, 438.76696777,\n",
       "       441.46002197, 441.26245117, 440.20025635, 440.90002441,\n",
       "       440.26010132, 439.08499146, 439.10913086, 439.00198364,\n",
       "       438.63040161, 438.77038574, 441.46353149, 441.26583862,\n",
       "       440.20370483, 440.90356445, 440.26351929, 439.08843994,\n",
       "       439.11251831, 439.00537109, 438.63226318, 438.77218628,\n",
       "       441.46530151, 441.26760864, 440.20547485, 440.90530396,\n",
       "       440.26538086, 439.09024048, 439.11434937, 439.00723267,\n",
       "       438.63314819, 438.77310181, 441.46627808, 441.26855469,\n",
       "       440.20639038, 440.90634155, 440.26623535, 439.09118652,\n",
       "       439.11529541, 439.00811768, 438.63327026, 438.77319336,\n",
       "       441.4664917 , 441.26876831, 440.20657349, 440.90643311,\n",
       "       440.26638794, 439.09133911, 439.11541748, 439.0083313 ,\n",
       "       438.63327026, 438.77328491, 441.4664917 , 441.26879883,\n",
       "       440.206604  , 440.90646362, 440.26644897, 439.09140015,\n",
       "       439.11547852, 439.00836182, 438.63327026, 438.77328491,\n",
       "       441.4664917 , 441.26879883, 440.206604  , 440.90646362,\n",
       "       440.26647949, 439.09140015, 439.115448  , 439.00836182,\n",
       "       438.63327026, 438.77328491, 441.4664917 , 441.26879883,\n",
       "       440.206604  , 440.90646362, 440.26644897, 439.09136963,\n",
       "       439.115448  , 439.00836182, 438.63327026, 438.77328491,\n",
       "       441.4664917 , 441.26879883, 440.206604  , 440.90646362,\n",
       "       440.26644897, 439.09136963, 439.11547852, 439.00836182,\n",
       "       438.63327026, 438.77328491, 441.4664917 , 441.26879883,\n",
       "       440.206604  , 440.90646362, 440.26644897, 439.09136963,\n",
       "       439.11547852, 439.00836182, 438.63327026, 438.77328491,\n",
       "       441.4664917 , 441.26879883, 440.206604  , 440.90646362,\n",
       "       440.26644897, 439.09140015, 439.11547852, 439.00836182,\n",
       "       438.63327026, 438.77328491, 441.4664917 , 441.26879883,\n",
       "       440.206604  , 440.90646362, 440.26647949, 439.09136963,\n",
       "       439.11547852, 439.00836182, 438.63327026, 438.77328491,\n",
       "       441.4664917 , 441.26879883, 440.206604  , 440.90646362,\n",
       "       440.26644897, 439.09136963, 439.11547852, 439.00836182])"
      ]
     },
     "execution_count": 61,
     "metadata": {},
     "output_type": "execute_result"
    }
   ],
   "source": [
    "while len(complete_predictions) < EXTRAPOLATE_DAYS:\n",
    "    prediction = model.predict(np.array([np.append(last_window, msft_sentiment)]))\n",
    "    complete_predictions = np.concatenate((complete_predictions, prediction[0]))\n",
    "    last_window = np.concatenate((last_window[DAYS_TO_TAKE_FROM_EACH_PREDICTION:], prediction[0]))\n",
    "\n",
    "complete_predictions"
   ]
  },
  {
   "cell_type": "code",
   "execution_count": 62,
   "metadata": {},
   "outputs": [
    {
     "data": {
      "text/plain": [
       "array([1.38933599e-01, 1.38507485e-01, 1.38320923e-01, ...,\n",
       "       4.39091370e+02, 4.39115479e+02, 4.39008362e+02])"
      ]
     },
     "execution_count": 62,
     "metadata": {},
     "output_type": "execute_result"
    }
   ],
   "source": [
    "model_completed_predictions = np.array(list(predictions) + list(complete_predictions))\n",
    "model_completed_predictions"
   ]
  },
  {
   "cell_type": "code",
   "execution_count": 63,
   "metadata": {},
   "outputs": [
    {
     "data": {
      "image/png": "[encoded data removed]",
      "text/plain": [
       "<Figure size 640x480 with 1 Axes>"
      ]
     },
     "metadata": {},
     "output_type": "display_data"
    }
   ],
   "source": [
    "plt.plot(np.array(msft_df.Close), label='Actual')\n",
    "plt.plot(model_completed_predictions, label='Predicted')\n",
    "plt.legend()\n",
    "plt.show()"
   ]
  },
  {
   "cell_type": "code",
   "execution_count": 64,
   "metadata": {},
   "outputs": [
    {
     "data": {
      "text/plain": [
       "9579"
      ]
     },
     "execution_count": 64,
     "metadata": {},
     "output_type": "execute_result"
    }
   ],
   "source": [
    "len(model_completed_predictions)"
   ]
  },
  {
   "cell_type": "code",
   "execution_count": 65,
   "metadata": {},
   "outputs": [
    {
     "name": "stderr",
     "output_type": "stream",
     "text": [
      "/Users/dhruv/Documents/TestCode/COMP3900/3900_project/lib/python3.11/site-packages/keras/src/engine/training.py:3079: UserWarning: You are saving your model as an HDF5 file via `model.save()`. This file format is considered legacy. We recommend using instead the native Keras format, e.g. `model.save('my_model.keras')`.\n",
      "  saving_api.save_model(\n"
     ]
    }
   ],
   "source": [
    "# save the model\n",
    "model.save('stock_predictor.h5')"
   ]
  }
 ],
 "metadata": {
  "kernelspec": {
   "display_name": "3900_project",
   "language": "python",
   "name": "python3"
  },
  "language_info": {
   "codemirror_mode": {
    "name": "ipython",
    "version": 3
   },
   "file_extension": ".py",
   "mimetype": "text/x-python",
   "name": "python",
   "nbconvert_exporter": "python",
   "pygments_lexer": "ipython3",
   "version": "3.11.4"
  }
 },
 "nbformat": 4,
 "nbformat_minor": 2
}
